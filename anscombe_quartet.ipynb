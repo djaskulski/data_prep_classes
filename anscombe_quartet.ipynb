{
 "cells": [
  {
   "cell_type": "markdown",
   "id": "2ea83e3d-2e56-4c30-91af-5125e618e947",
   "metadata": {},
   "source": [
    "# Anscombe quartet (n)"
   ]
  },
  {
   "cell_type": "code",
   "execution_count": 129,
   "id": "1cd47c82-aa05-4c23-9cef-e196483e81ce",
   "metadata": {},
   "outputs": [],
   "source": [
    "# According to the definition given in Wikipedia, Anscombe’s quartet comprises four datasets \n",
    "# that have nearly identical simple statistical properties, yet appear very different when graphed. \n",
    "# Each dataset consists of eleven (x,y) points. They were constructed in 1973 by the statistician \n",
    "# Francis Anscombe to demonstrate both the importance of graphing data before analyzing it and the effect \n",
    "# of outliers on statistical properties."
   ]
  },
  {
   "cell_type": "code",
   "execution_count": 130,
   "id": "b8d1e39a-a709-4c5b-a113-08f6468e7086",
   "metadata": {},
   "outputs": [],
   "source": [
    "# Proszę przygotować skrypt (plik z rozszerzeniem *.py), który:\n",
    "\n",
    "# - będzie uruchamiany z konsoli przez np. python nazwa_skryptu.py\n",
    "# - musi zawierać funkcję main(), sprawdź tutaj\n",
    "# - zapisze wyniki obliczeń (mean, std, corr, var) w pliku *.csv\n",
    "# - wygeneruje jeden obraz jpg z 4 wykresami (subploty, 2 kolumny x 2 wiersze)\n",
    "# - plik jpg oraz csv mają być zapisane do jednego folderu np. \"output\"\n",
    "\n",
    "# Kod musi spełniać zasady:\n",
    "# - PEP8\n",
    "# - DRY\n",
    "# - musi zawierać funkcje z docstring oraz type hints\n",
    "# - musi być sprawdzony przez inną osobę (zatwierdzony code review)\n",
    "\n",
    "# Proszę wstawić print screen ze swojego repozytorium z kodem oraz tak aby była widoczna nazwa \n",
    "# użytkownika (autora)\n",
    "# Nazwa pliku (bez polskich znaków):\n",
    "# Nazwisko_Imie_anscombe_niestacj.jpg"
   ]
  },
  {
   "cell_type": "markdown",
   "id": "827ca4f0-22f7-4d69-abd1-8bf975731418",
   "metadata": {},
   "source": [
    "<!-- Proszę przygotować skrypt (plik z rozszerzeniem *.py), który:\n",
    "\n",
    "- będzie uruchamiany z konsoli przez np. python nazwa_skryptu.py\n",
    "\n",
    "- musi zawierać funkcję main(), sprawdź tutaj\n",
    "\n",
    "- wygeneruje jeden obraz jpg z 4 wykresami (subploty, 2 kolumny x 2 wiersze)\n",
    "    - mean, \n",
    "    - standard deviation, \n",
    "    - correlation coefficient (Pearson),\n",
    "    - variance\n",
    "\n",
    "- zapisze wyniki obliczeń w pliku *.csv\n",
    "\n",
    "- plik jpg oraz csv mają być zapisane do jednego folderu np. \"output\"\n",
    "\n",
    "\n",
    "Kod musi spełniać zasady:\n",
    "\n",
    "- PEP8\n",
    "\n",
    "- DRY\n",
    "\n",
    "- musi zawierać funkcje z docstring oraz type hints\n",
    "\n",
    "- musi być sprawdzony przez inną osobę (zatwierdzony code review)\n",
    "\n",
    "\n",
    "Proszę wstawić print screen ze swojego repozytorium z kodem oraz tak aby była widoczna nazwa użytkownika (autora)\n",
    "\n",
    "Nazwa pliku (bez polskich znaków):\n",
    "\n",
    "Nazwisko_Imie_anscombe_niestacj.jpg -->"
   ]
  },
  {
   "cell_type": "code",
   "execution_count": 131,
   "id": "1a3a6d37-c1b3-4820-9b77-b1a022f687b9",
   "metadata": {},
   "outputs": [],
   "source": [
    "import numpy as np\n",
    "import pandas as pd\n",
    "import seaborn as sns\n",
    "import typing\n",
    "import matplotlib.pyplot as plt"
   ]
  },
  {
   "cell_type": "markdown",
   "id": "d3409a39-f424-4b48-b26b-e2ec1459fe3c",
   "metadata": {},
   "source": [
    "## data preparation"
   ]
  },
  {
   "cell_type": "code",
   "execution_count": 132,
   "id": "385281fb-94b4-4ebe-bbfd-dda2dd9386b2",
   "metadata": {},
   "outputs": [],
   "source": [
    "def data_as_anscombe(multiindex:bool=False) -> anscombe_df:\n",
    "    \"\"\" \n",
    "    Makes (multiindex) DataFrame from Anscombe quartet's data.\n",
    "        Parameters:\n",
    "            multiindex (bool): Adds multiindex columns to DataFrame. Default = False.\n",
    "        Returns:\n",
    "            anscombe_df (DataFrame): Anscombe's quartet as DataFrame.\n",
    "    \"\"\"\n",
    "    \n",
    "    x = [10, 8, 13, 9, 11, 14, 6, 4, 12, 7, 5]\n",
    "    y1 = [8.04, 6.95, 7.58, 8.81, 8.33, 9.96, 7.24, 4.26, 10.84, 4.82, 5.68]\n",
    "    y2 = [9.14, 8.14, 8.74, 8.77, 9.26, 8.10, 6.13, 3.10, 9.13, 7.26, 4.74]\n",
    "    y3 = [7.46, 6.77, 12.74, 7.11, 7.81, 8.84, 6.08, 5.39, 8.15, 6.42, 5.73]\n",
    "    x4 = [8, 8, 8, 8, 8, 8, 8, 19, 8, 8, 8]\n",
    "    y4 = [6.58, 5.76, 7.71, 8.84, 8.47, 7.04, 5.25, 12.50, 5.56, 7.91, 6.89]\n",
    "\n",
    "    list_of_tuples = list(zip(x, y1, x, y2, x, y3, x4, y4))\n",
    "    \n",
    "    anscombe_df = pd.DataFrame(list_of_tuples)\n",
    "    \n",
    "    if multiindex == True:\n",
    "        cols = [np.array([\"I\", \"I\", \"II\", \"II\", \"III\", \"III\", \"IV\", \"IV\"]),\n",
    "            np.array([\"x\", \"y1\", \"x\", \"y2\", \"x\", \"y3\", \"x4\", \"y4\"])]\n",
    "        \n",
    "        anscombe_df.columns = cols\n",
    "    \n",
    "    return anscombe_df"
   ]
  },
  {
   "cell_type": "code",
   "execution_count": 133,
   "id": "3a0ed248-3539-4b93-bc5c-e8acf776825d",
   "metadata": {},
   "outputs": [
    {
     "data": {
      "text/html": [
       "<div>\n",
       "<style scoped>\n",
       "    .dataframe tbody tr th:only-of-type {\n",
       "        vertical-align: middle;\n",
       "    }\n",
       "\n",
       "    .dataframe tbody tr th {\n",
       "        vertical-align: top;\n",
       "    }\n",
       "\n",
       "    .dataframe thead tr th {\n",
       "        text-align: left;\n",
       "    }\n",
       "</style>\n",
       "<table border=\"1\" class=\"dataframe\">\n",
       "  <thead>\n",
       "    <tr>\n",
       "      <th></th>\n",
       "      <th colspan=\"2\" halign=\"left\">I</th>\n",
       "      <th colspan=\"2\" halign=\"left\">II</th>\n",
       "      <th colspan=\"2\" halign=\"left\">III</th>\n",
       "      <th colspan=\"2\" halign=\"left\">IV</th>\n",
       "    </tr>\n",
       "    <tr>\n",
       "      <th></th>\n",
       "      <th>x</th>\n",
       "      <th>y1</th>\n",
       "      <th>x</th>\n",
       "      <th>y2</th>\n",
       "      <th>x</th>\n",
       "      <th>y3</th>\n",
       "      <th>x4</th>\n",
       "      <th>y4</th>\n",
       "    </tr>\n",
       "  </thead>\n",
       "  <tbody>\n",
       "    <tr>\n",
       "      <th>0</th>\n",
       "      <td>10</td>\n",
       "      <td>8.04</td>\n",
       "      <td>10</td>\n",
       "      <td>9.14</td>\n",
       "      <td>10</td>\n",
       "      <td>7.46</td>\n",
       "      <td>8</td>\n",
       "      <td>6.58</td>\n",
       "    </tr>\n",
       "    <tr>\n",
       "      <th>1</th>\n",
       "      <td>8</td>\n",
       "      <td>6.95</td>\n",
       "      <td>8</td>\n",
       "      <td>8.14</td>\n",
       "      <td>8</td>\n",
       "      <td>6.77</td>\n",
       "      <td>8</td>\n",
       "      <td>5.76</td>\n",
       "    </tr>\n",
       "    <tr>\n",
       "      <th>2</th>\n",
       "      <td>13</td>\n",
       "      <td>7.58</td>\n",
       "      <td>13</td>\n",
       "      <td>8.74</td>\n",
       "      <td>13</td>\n",
       "      <td>12.74</td>\n",
       "      <td>8</td>\n",
       "      <td>7.71</td>\n",
       "    </tr>\n",
       "    <tr>\n",
       "      <th>3</th>\n",
       "      <td>9</td>\n",
       "      <td>8.81</td>\n",
       "      <td>9</td>\n",
       "      <td>8.77</td>\n",
       "      <td>9</td>\n",
       "      <td>7.11</td>\n",
       "      <td>8</td>\n",
       "      <td>8.84</td>\n",
       "    </tr>\n",
       "    <tr>\n",
       "      <th>4</th>\n",
       "      <td>11</td>\n",
       "      <td>8.33</td>\n",
       "      <td>11</td>\n",
       "      <td>9.26</td>\n",
       "      <td>11</td>\n",
       "      <td>7.81</td>\n",
       "      <td>8</td>\n",
       "      <td>8.47</td>\n",
       "    </tr>\n",
       "    <tr>\n",
       "      <th>5</th>\n",
       "      <td>14</td>\n",
       "      <td>9.96</td>\n",
       "      <td>14</td>\n",
       "      <td>8.10</td>\n",
       "      <td>14</td>\n",
       "      <td>8.84</td>\n",
       "      <td>8</td>\n",
       "      <td>7.04</td>\n",
       "    </tr>\n",
       "    <tr>\n",
       "      <th>6</th>\n",
       "      <td>6</td>\n",
       "      <td>7.24</td>\n",
       "      <td>6</td>\n",
       "      <td>6.13</td>\n",
       "      <td>6</td>\n",
       "      <td>6.08</td>\n",
       "      <td>8</td>\n",
       "      <td>5.25</td>\n",
       "    </tr>\n",
       "    <tr>\n",
       "      <th>7</th>\n",
       "      <td>4</td>\n",
       "      <td>4.26</td>\n",
       "      <td>4</td>\n",
       "      <td>3.10</td>\n",
       "      <td>4</td>\n",
       "      <td>5.39</td>\n",
       "      <td>19</td>\n",
       "      <td>12.50</td>\n",
       "    </tr>\n",
       "    <tr>\n",
       "      <th>8</th>\n",
       "      <td>12</td>\n",
       "      <td>10.84</td>\n",
       "      <td>12</td>\n",
       "      <td>9.13</td>\n",
       "      <td>12</td>\n",
       "      <td>8.15</td>\n",
       "      <td>8</td>\n",
       "      <td>5.56</td>\n",
       "    </tr>\n",
       "    <tr>\n",
       "      <th>9</th>\n",
       "      <td>7</td>\n",
       "      <td>4.82</td>\n",
       "      <td>7</td>\n",
       "      <td>7.26</td>\n",
       "      <td>7</td>\n",
       "      <td>6.42</td>\n",
       "      <td>8</td>\n",
       "      <td>7.91</td>\n",
       "    </tr>\n",
       "    <tr>\n",
       "      <th>10</th>\n",
       "      <td>5</td>\n",
       "      <td>5.68</td>\n",
       "      <td>5</td>\n",
       "      <td>4.74</td>\n",
       "      <td>5</td>\n",
       "      <td>5.73</td>\n",
       "      <td>8</td>\n",
       "      <td>6.89</td>\n",
       "    </tr>\n",
       "  </tbody>\n",
       "</table>\n",
       "</div>"
      ],
      "text/plain": [
       "     I         II       III         IV       \n",
       "     x     y1   x    y2   x     y3  x4     y4\n",
       "0   10   8.04  10  9.14  10   7.46   8   6.58\n",
       "1    8   6.95   8  8.14   8   6.77   8   5.76\n",
       "2   13   7.58  13  8.74  13  12.74   8   7.71\n",
       "3    9   8.81   9  8.77   9   7.11   8   8.84\n",
       "4   11   8.33  11  9.26  11   7.81   8   8.47\n",
       "5   14   9.96  14  8.10  14   8.84   8   7.04\n",
       "6    6   7.24   6  6.13   6   6.08   8   5.25\n",
       "7    4   4.26   4  3.10   4   5.39  19  12.50\n",
       "8   12  10.84  12  9.13  12   8.15   8   5.56\n",
       "9    7   4.82   7  7.26   7   6.42   8   7.91\n",
       "10   5   5.68   5  4.74   5   5.73   8   6.89"
      ]
     },
     "execution_count": 133,
     "metadata": {},
     "output_type": "execute_result"
    }
   ],
   "source": [
    "df = data_as_anscombe(multiindex=True)\n",
    "df"
   ]
  },
  {
   "cell_type": "markdown",
   "id": "06648788-0e45-4995-b15a-67ddedfa90a3",
   "metadata": {},
   "source": [
    "## calculations"
   ]
  },
  {
   "cell_type": "code",
   "execution_count": 134,
   "id": "f500b14c-dfa9-47b3-a597-1d412c25ece1",
   "metadata": {},
   "outputs": [],
   "source": [
    "def anscombe_statistics():\n",
    "    \"\"\" \"\"\"\n",
    "    pass"
   ]
  },
  {
   "cell_type": "code",
   "execution_count": 135,
   "id": "5a344e3c-9088-4803-a9bf-02fd49acaef3",
   "metadata": {},
   "outputs": [],
   "source": [
    "# mean"
   ]
  },
  {
   "cell_type": "code",
   "execution_count": 136,
   "id": "f9dbf757-aa7c-4a7f-9ab1-8f0a3791f713",
   "metadata": {},
   "outputs": [],
   "source": [
    "# std"
   ]
  },
  {
   "cell_type": "code",
   "execution_count": 137,
   "id": "719a5d53-ea25-4fe3-b81d-d99b82189edb",
   "metadata": {},
   "outputs": [],
   "source": [
    "# corr"
   ]
  },
  {
   "cell_type": "code",
   "execution_count": 138,
   "id": "e5cd7dc2-71fe-47ab-86ad-0a92bde46fae",
   "metadata": {},
   "outputs": [],
   "source": [
    "# var"
   ]
  },
  {
   "cell_type": "markdown",
   "id": "3b7da017-7e4d-40d2-bda3-5255aa71ba60",
   "metadata": {},
   "source": [
    "## visualization"
   ]
  },
  {
   "cell_type": "code",
   "execution_count": 139,
   "id": "a29e2d56-52c2-4b9c-92a7-d74bb20786b4",
   "metadata": {},
   "outputs": [],
   "source": [
    "# anscombe_df.plot(subplots=True, figsize=(8, 16), style='o', ms=8, grid=True);"
   ]
  },
  {
   "cell_type": "code",
   "execution_count": 140,
   "id": "f1b64306-c78d-4c46-8de2-a33a2f398e17",
   "metadata": {},
   "outputs": [],
   "source": [
    "# scatter_plot_df = anscombe_df.reset_index()\n",
    "# fig, axs = plt.subplots(2,2, sharex=True, sharey=True, figsize=(6, 6))\n",
    "# axs[0, 0].set(xlim=(0, 20), ylim=(2, 14))\n",
    "# axs[0, 0].set(xticks=(0, 10, 20), yticks=(4, 8, 12))\n",
    "# axs[0, 0].scatter(x, y1)\n",
    "# axs[0, 1].scatter(x, y2)\n",
    "# axs[1, 0].scatter(x, y3)\n",
    "# axs[1, 1].scatter(x4, y4)\n",
    "# fig.tight_layout()\n",
    "# plt.show()"
   ]
  },
  {
   "cell_type": "code",
   "execution_count": 141,
   "id": "a89e15e7-b77e-48dd-9d46-5702edcd650d",
   "metadata": {},
   "outputs": [],
   "source": [
    "# sns.pairplot(anscombe_df, corner=True)"
   ]
  },
  {
   "cell_type": "markdown",
   "id": "78e81f74-5d02-4d3b-920e-7e944f93f554",
   "metadata": {},
   "source": [
    "## as script .py"
   ]
  },
  {
   "cell_type": "code",
   "execution_count": 142,
   "id": "70611c25-a2a8-410d-be59-5740b2783d5b",
   "metadata": {},
   "outputs": [],
   "source": [
    "# shell command convert .ipynb to .py\n",
    "#!jupyter nbconvert --to script anscombe_quartet.ipynb"
   ]
  }
 ],
 "metadata": {
  "kernelspec": {
   "display_name": "Python [conda env:cdv_data_prep] *",
   "language": "python",
   "name": "conda-env-cdv_data_prep-py"
  },
  "language_info": {
   "codemirror_mode": {
    "name": "ipython",
    "version": 3
   },
   "file_extension": ".py",
   "mimetype": "text/x-python",
   "name": "python",
   "nbconvert_exporter": "python",
   "pygments_lexer": "ipython3",
   "version": "3.8.5"
  }
 },
 "nbformat": 4,
 "nbformat_minor": 5
}
