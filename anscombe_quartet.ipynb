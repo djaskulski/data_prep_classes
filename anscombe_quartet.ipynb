{
 "cells": [
  {
   "cell_type": "markdown",
   "id": "2ea83e3d-2e56-4c30-91af-5125e618e947",
   "metadata": {},
   "source": [
    "# Anscombe quartet (n)"
   ]
  },
  {
   "cell_type": "code",
   "execution_count": 244,
   "id": "1cd47c82-aa05-4c23-9cef-e196483e81ce",
   "metadata": {},
   "outputs": [],
   "source": [
    "# According to the definition given in Wikipedia, Anscombe’s quartet comprises four datasets \n",
    "# that have nearly identical simple statistical properties, yet appear very different when graphed. \n",
    "# Each dataset consists of eleven (x,y) points. They were constructed in 1973 by the statistician \n",
    "# Francis Anscombe to demonstrate both the importance of graphing data before analyzing it and the effect \n",
    "# of outliers on statistical properties."
   ]
  },
  {
   "cell_type": "code",
   "execution_count": 245,
   "id": "b8d1e39a-a709-4c5b-a113-08f6468e7086",
   "metadata": {},
   "outputs": [],
   "source": [
    "# Proszę przygotować skrypt (plik z rozszerzeniem *.py), który:\n",
    "# - będzie uruchamiany z konsoli przez np. python nazwa_skryptu.py\n",
    "# - musi zawierać funkcję main(), sprawdź tutaj\n",
    "# - zapisze wyniki obliczeń (mean, std, corr, var) w pliku *.csv\n",
    "# - wygeneruje jeden obraz jpg z 4 wykresami (subploty, 2 kolumny x 2 wiersze)\n",
    "# - plik jpg oraz csv mają być zapisane do jednego folderu np. \"output\"\n",
    "\n",
    "# Kod musi spełniać zasady:\n",
    "# - PEP8\n",
    "# - DRY\n",
    "# - musi zawierać funkcje z docstring oraz type hints\n",
    "# - musi być sprawdzony przez inną osobę (zatwierdzony code review)\n",
    "\n",
    "# Proszę wstawić print screen ze swojego repozytorium z kodem oraz tak aby była widoczna nazwa \n",
    "# użytkownika (autora)\n",
    "# Nazwa pliku (bez polskich znaków):\n",
    "# Nazwisko_Imie_anscombe_niestacj.jpg"
   ]
  },
  {
   "cell_type": "markdown",
   "id": "827ca4f0-22f7-4d69-abd1-8bf975731418",
   "metadata": {},
   "source": [
    "<!-- Proszę przygotować skrypt (plik z rozszerzeniem *.py), który:\n",
    "\n",
    "- będzie uruchamiany z konsoli przez np. python nazwa_skryptu.py\n",
    "\n",
    "- musi zawierać funkcję main(), sprawdź tutaj\n",
    "\n",
    "- wygeneruje jeden obraz jpg z 4 wykresami (subploty, 2 kolumny x 2 wiersze)\n",
    "    - mean, \n",
    "    - standard deviation, \n",
    "    - correlation coefficient (Pearson),\n",
    "    - variance\n",
    "\n",
    "- zapisze wyniki obliczeń w pliku *.csv\n",
    "\n",
    "- plik jpg oraz csv mają być zapisane do jednego folderu np. \"output\"\n",
    "\n",
    "\n",
    "Kod musi spełniać zasady:\n",
    "\n",
    "- PEP8\n",
    "\n",
    "- DRY\n",
    "\n",
    "- musi zawierać funkcje z docstring oraz type hints\n",
    "\n",
    "- musi być sprawdzony przez inną osobę (zatwierdzony code review)\n",
    "\n",
    "\n",
    "Proszę wstawić print screen ze swojego repozytorium z kodem oraz tak aby była widoczna nazwa użytkownika (autora)\n",
    "\n",
    "Nazwa pliku (bez polskich znaków):\n",
    "\n",
    "Nazwisko_Imie_anscombe_niestacj.jpg -->"
   ]
  },
  {
   "cell_type": "code",
   "execution_count": 246,
   "id": "1a3a6d37-c1b3-4820-9b77-b1a022f687b9",
   "metadata": {},
   "outputs": [],
   "source": [
    "import typing\n",
    "import numpy as np\n",
    "import pandas as pd\n",
    "from scipy.stats import pearsonr\n",
    "import seaborn as sns\n",
    "import matplotlib.pyplot as plt\n",
    "import os"
   ]
  },
  {
   "cell_type": "markdown",
   "id": "d3409a39-f424-4b48-b26b-e2ec1459fe3c",
   "metadata": {},
   "source": [
    "## data preparation"
   ]
  },
  {
   "cell_type": "code",
   "execution_count": 266,
   "id": "c7aa7af9-5097-4455-acb3-2c23804aece9",
   "metadata": {},
   "outputs": [],
   "source": [
    "def makedir():\n",
    "    resposne = input(\"Write 'yes, please' and confirm by ENTER to make new dir: output \")\n",
    "    if resposne == \"yes\" :\n",
    "        print(\"Have a nice new directory\")\n",
    "        os.makedirs('output')\n",
    "    else:\n",
    "        print(\"Making new directory aborted\")"
   ]
  },
  {
   "cell_type": "code",
   "execution_count": 267,
   "id": "4d237436-5ecb-4b36-b7b8-24e34e8f9326",
   "metadata": {},
   "outputs": [
    {
     "name": "stdin",
     "output_type": "stream",
     "text": [
      "Write 'yes, please' and confirm by ENTER to make new dir: output  no\n"
     ]
    },
    {
     "name": "stdout",
     "output_type": "stream",
     "text": [
      "Making new directory aborted\n"
     ]
    }
   ],
   "source": [
    "makedir()"
   ]
  },
  {
   "cell_type": "code",
   "execution_count": 249,
   "id": "385281fb-94b4-4ebe-bbfd-dda2dd9386b2",
   "metadata": {},
   "outputs": [],
   "source": [
    "def data_as_anscombe(multiindex:bool=False, save:bool=False):\n",
    "    \"\"\" \n",
    "    Makes DataFrame from Anscombe quartet's data. Data included.\n",
    "        Parameters:\n",
    "            multiindex (bool): Adds multiindex columns to DataFrame. Default = False.\n",
    "            save (bool): Create csv file with anscombe df.\n",
    "        Returns:\n",
    "            anscombe_df (DataFrame)\n",
    "    \"\"\"\n",
    "    x = [10, 8, 13, 9, 11, 14, 6, 4, 12, 7, 5]\n",
    "    y1 = [8.04, 6.95, 7.58, 8.81, 8.33, 9.96, 7.24, 4.26, 10.84, 4.82, 5.68]\n",
    "    y2 = [9.14, 8.14, 8.74, 8.77, 9.26, 8.10, 6.13, 3.10, 9.13, 7.26, 4.74]\n",
    "    y3 = [7.46, 6.77, 12.74, 7.11, 7.81, 8.84, 6.08, 5.39, 8.15, 6.42, 5.73]\n",
    "    x4 = [8, 8, 8, 8, 8, 8, 8, 19, 8, 8, 8]\n",
    "    y4 = [6.58, 5.76, 7.71, 8.84, 8.47, 7.04, 5.25, 12.50, 5.56, 7.91, 6.89]\n",
    "\n",
    "    list_of_tuples = list(zip(x, y1, x, y2, x, y3, x4, y4))\n",
    "    cols = [\"x1\", \"y1\", \"x2\", \"y2\", \"x3\", \"y3\", \"x4\", \"y4\"]\n",
    "    \n",
    "    anscombe_df = pd.DataFrame(list_of_tuples, columns=cols)\n",
    "    \n",
    "    if multiindex == True:\n",
    "        quartet = [\"I\", \"I\", \"II\", \"II\", \"III\", \"III\", \"IV\", \"IV\"]\n",
    "        multi_cols = [np.array(quartet), np.array(cols)]\n",
    "        \n",
    "        anscombe_df.columns = multi_cols\n",
    "    \n",
    "    if save == True:\n",
    "        anscombe_df.to_csv(\"output/anscombe_df.csv\", index=False)\n",
    "    \n",
    "    return anscombe_df"
   ]
  },
  {
   "cell_type": "code",
   "execution_count": 250,
   "id": "3a0ed248-3539-4b93-bc5c-e8acf776825d",
   "metadata": {},
   "outputs": [
    {
     "data": {
      "text/html": [
       "<div>\n",
       "<style scoped>\n",
       "    .dataframe tbody tr th:only-of-type {\n",
       "        vertical-align: middle;\n",
       "    }\n",
       "\n",
       "    .dataframe tbody tr th {\n",
       "        vertical-align: top;\n",
       "    }\n",
       "\n",
       "    .dataframe thead tr th {\n",
       "        text-align: left;\n",
       "    }\n",
       "</style>\n",
       "<table border=\"1\" class=\"dataframe\">\n",
       "  <thead>\n",
       "    <tr>\n",
       "      <th></th>\n",
       "      <th colspan=\"2\" halign=\"left\">I</th>\n",
       "      <th colspan=\"2\" halign=\"left\">II</th>\n",
       "      <th colspan=\"2\" halign=\"left\">III</th>\n",
       "      <th colspan=\"2\" halign=\"left\">IV</th>\n",
       "    </tr>\n",
       "    <tr>\n",
       "      <th></th>\n",
       "      <th>x1</th>\n",
       "      <th>y1</th>\n",
       "      <th>x2</th>\n",
       "      <th>y2</th>\n",
       "      <th>x3</th>\n",
       "      <th>y3</th>\n",
       "      <th>x4</th>\n",
       "      <th>y4</th>\n",
       "    </tr>\n",
       "  </thead>\n",
       "  <tbody>\n",
       "    <tr>\n",
       "      <th>0</th>\n",
       "      <td>10</td>\n",
       "      <td>8.04</td>\n",
       "      <td>10</td>\n",
       "      <td>9.14</td>\n",
       "      <td>10</td>\n",
       "      <td>7.46</td>\n",
       "      <td>8</td>\n",
       "      <td>6.58</td>\n",
       "    </tr>\n",
       "    <tr>\n",
       "      <th>1</th>\n",
       "      <td>8</td>\n",
       "      <td>6.95</td>\n",
       "      <td>8</td>\n",
       "      <td>8.14</td>\n",
       "      <td>8</td>\n",
       "      <td>6.77</td>\n",
       "      <td>8</td>\n",
       "      <td>5.76</td>\n",
       "    </tr>\n",
       "    <tr>\n",
       "      <th>2</th>\n",
       "      <td>13</td>\n",
       "      <td>7.58</td>\n",
       "      <td>13</td>\n",
       "      <td>8.74</td>\n",
       "      <td>13</td>\n",
       "      <td>12.74</td>\n",
       "      <td>8</td>\n",
       "      <td>7.71</td>\n",
       "    </tr>\n",
       "    <tr>\n",
       "      <th>3</th>\n",
       "      <td>9</td>\n",
       "      <td>8.81</td>\n",
       "      <td>9</td>\n",
       "      <td>8.77</td>\n",
       "      <td>9</td>\n",
       "      <td>7.11</td>\n",
       "      <td>8</td>\n",
       "      <td>8.84</td>\n",
       "    </tr>\n",
       "    <tr>\n",
       "      <th>4</th>\n",
       "      <td>11</td>\n",
       "      <td>8.33</td>\n",
       "      <td>11</td>\n",
       "      <td>9.26</td>\n",
       "      <td>11</td>\n",
       "      <td>7.81</td>\n",
       "      <td>8</td>\n",
       "      <td>8.47</td>\n",
       "    </tr>\n",
       "    <tr>\n",
       "      <th>5</th>\n",
       "      <td>14</td>\n",
       "      <td>9.96</td>\n",
       "      <td>14</td>\n",
       "      <td>8.10</td>\n",
       "      <td>14</td>\n",
       "      <td>8.84</td>\n",
       "      <td>8</td>\n",
       "      <td>7.04</td>\n",
       "    </tr>\n",
       "    <tr>\n",
       "      <th>6</th>\n",
       "      <td>6</td>\n",
       "      <td>7.24</td>\n",
       "      <td>6</td>\n",
       "      <td>6.13</td>\n",
       "      <td>6</td>\n",
       "      <td>6.08</td>\n",
       "      <td>8</td>\n",
       "      <td>5.25</td>\n",
       "    </tr>\n",
       "    <tr>\n",
       "      <th>7</th>\n",
       "      <td>4</td>\n",
       "      <td>4.26</td>\n",
       "      <td>4</td>\n",
       "      <td>3.10</td>\n",
       "      <td>4</td>\n",
       "      <td>5.39</td>\n",
       "      <td>19</td>\n",
       "      <td>12.50</td>\n",
       "    </tr>\n",
       "    <tr>\n",
       "      <th>8</th>\n",
       "      <td>12</td>\n",
       "      <td>10.84</td>\n",
       "      <td>12</td>\n",
       "      <td>9.13</td>\n",
       "      <td>12</td>\n",
       "      <td>8.15</td>\n",
       "      <td>8</td>\n",
       "      <td>5.56</td>\n",
       "    </tr>\n",
       "    <tr>\n",
       "      <th>9</th>\n",
       "      <td>7</td>\n",
       "      <td>4.82</td>\n",
       "      <td>7</td>\n",
       "      <td>7.26</td>\n",
       "      <td>7</td>\n",
       "      <td>6.42</td>\n",
       "      <td>8</td>\n",
       "      <td>7.91</td>\n",
       "    </tr>\n",
       "    <tr>\n",
       "      <th>10</th>\n",
       "      <td>5</td>\n",
       "      <td>5.68</td>\n",
       "      <td>5</td>\n",
       "      <td>4.74</td>\n",
       "      <td>5</td>\n",
       "      <td>5.73</td>\n",
       "      <td>8</td>\n",
       "      <td>6.89</td>\n",
       "    </tr>\n",
       "  </tbody>\n",
       "</table>\n",
       "</div>"
      ],
      "text/plain": [
       "     I         II       III         IV       \n",
       "    x1     y1  x2    y2  x3     y3  x4     y4\n",
       "0   10   8.04  10  9.14  10   7.46   8   6.58\n",
       "1    8   6.95   8  8.14   8   6.77   8   5.76\n",
       "2   13   7.58  13  8.74  13  12.74   8   7.71\n",
       "3    9   8.81   9  8.77   9   7.11   8   8.84\n",
       "4   11   8.33  11  9.26  11   7.81   8   8.47\n",
       "5   14   9.96  14  8.10  14   8.84   8   7.04\n",
       "6    6   7.24   6  6.13   6   6.08   8   5.25\n",
       "7    4   4.26   4  3.10   4   5.39  19  12.50\n",
       "8   12  10.84  12  9.13  12   8.15   8   5.56\n",
       "9    7   4.82   7  7.26   7   6.42   8   7.91\n",
       "10   5   5.68   5  4.74   5   5.73   8   6.89"
      ]
     },
     "execution_count": 250,
     "metadata": {},
     "output_type": "execute_result"
    }
   ],
   "source": [
    "quartet_df = data_as_anscombe(multiindex=True, save=True)\n",
    "quartet_df"
   ]
  },
  {
   "cell_type": "markdown",
   "id": "06648788-0e45-4995-b15a-67ddedfa90a3",
   "metadata": {},
   "source": [
    "## calculations"
   ]
  },
  {
   "cell_type": "code",
   "execution_count": 251,
   "id": "f500b14c-dfa9-47b3-a597-1d412c25ece1",
   "metadata": {},
   "outputs": [],
   "source": [
    "def anscombe_statistics(a, b, rounded=2):\n",
    "    \"\"\" \"\"\"\n",
    "    var = round(np.var(a), rounded)\n",
    "    mean = round(np.mean(a), rounded)\n",
    "    std = round(np.std(a), rounded)\n",
    "    corr = round(pearsonr(a, b)[0], rounded)\n",
    "   \n",
    "    return [var, mean, std, corr]"
   ]
  },
  {
   "cell_type": "code",
   "execution_count": 252,
   "id": "8600abdd-588b-4692-abc7-175cbb943ac4",
   "metadata": {},
   "outputs": [],
   "source": [
    "def set_calculations_in_frame(df, save=False):\n",
    "    \"\"\" \"\"\"\n",
    "    set1 = anscombe_statistics(df[\"I\"][\"x1\"], df[\"I\"][\"y1\"], rounded=2)\n",
    "    set2 = anscombe_statistics(df[\"II\"][\"x2\"], df[\"II\"][\"y2\"], rounded=2)\n",
    "    set3 = anscombe_statistics(df[\"III\"][\"x3\"], df[\"III\"][\"y3\"], rounded=2)\n",
    "    set4 = anscombe_statistics(df[\"IV\"][\"x4\"], df[\"IV\"][\"y4\"], rounded=2)\n",
    "    \n",
    "    columns = [\"var\", \"mean\", \"std\", \"corr\"]\n",
    "    index = [\"set1\", \"set2\", \"set3\", \"set4\"]\n",
    "    data = [set1, set2, set3, set4]\n",
    "    df = pd.DataFrame(data, index=index, columns=columns)\n",
    "    \n",
    "    if save == True:\n",
    "        df.to_csv(\"output/set_calculations_in_frame.csv\", index_label=\"index\")\n",
    "        \n",
    "    return df"
   ]
  },
  {
   "cell_type": "code",
   "execution_count": 253,
   "id": "0fbfe8cc-c168-49bb-ab36-24b643616395",
   "metadata": {},
   "outputs": [
    {
     "data": {
      "text/html": [
       "<div>\n",
       "<style scoped>\n",
       "    .dataframe tbody tr th:only-of-type {\n",
       "        vertical-align: middle;\n",
       "    }\n",
       "\n",
       "    .dataframe tbody tr th {\n",
       "        vertical-align: top;\n",
       "    }\n",
       "\n",
       "    .dataframe thead th {\n",
       "        text-align: right;\n",
       "    }\n",
       "</style>\n",
       "<table border=\"1\" class=\"dataframe\">\n",
       "  <thead>\n",
       "    <tr style=\"text-align: right;\">\n",
       "      <th></th>\n",
       "      <th>var</th>\n",
       "      <th>mean</th>\n",
       "      <th>std</th>\n",
       "      <th>corr</th>\n",
       "    </tr>\n",
       "  </thead>\n",
       "  <tbody>\n",
       "    <tr>\n",
       "      <th>set1</th>\n",
       "      <td>10.0</td>\n",
       "      <td>9.0</td>\n",
       "      <td>3.16</td>\n",
       "      <td>0.82</td>\n",
       "    </tr>\n",
       "    <tr>\n",
       "      <th>set2</th>\n",
       "      <td>10.0</td>\n",
       "      <td>9.0</td>\n",
       "      <td>3.16</td>\n",
       "      <td>0.82</td>\n",
       "    </tr>\n",
       "    <tr>\n",
       "      <th>set3</th>\n",
       "      <td>10.0</td>\n",
       "      <td>9.0</td>\n",
       "      <td>3.16</td>\n",
       "      <td>0.82</td>\n",
       "    </tr>\n",
       "    <tr>\n",
       "      <th>set4</th>\n",
       "      <td>10.0</td>\n",
       "      <td>9.0</td>\n",
       "      <td>3.16</td>\n",
       "      <td>0.82</td>\n",
       "    </tr>\n",
       "  </tbody>\n",
       "</table>\n",
       "</div>"
      ],
      "text/plain": [
       "       var  mean   std  corr\n",
       "set1  10.0   9.0  3.16  0.82\n",
       "set2  10.0   9.0  3.16  0.82\n",
       "set3  10.0   9.0  3.16  0.82\n",
       "set4  10.0   9.0  3.16  0.82"
      ]
     },
     "execution_count": 253,
     "metadata": {},
     "output_type": "execute_result"
    }
   ],
   "source": [
    "calculated_df = set_calculations_in_frame(quartet_df, save=True)\n",
    "calculated_df"
   ]
  },
  {
   "cell_type": "markdown",
   "id": "3b7da017-7e4d-40d2-bda3-5255aa71ba60",
   "metadata": {},
   "source": [
    "## visualization"
   ]
  },
  {
   "cell_type": "code",
   "execution_count": 254,
   "id": "e7f83ef5-0bba-4b00-b172-de812374d7b5",
   "metadata": {},
   "outputs": [],
   "source": [
    "def pandas_plot(df, save=False):\n",
    "    \"\"\" \"\"\"\n",
    "    plot = df.plot(kind=\"bar\", figsize=(9, 9), grid=True, legend=True, \n",
    "                   title=\"Simple statistics comparison\")\n",
    "    \n",
    "    if save == True:\n",
    "        plt.savefig(\"output/calc.jpg\")\n",
    "        \n",
    "    return plot"
   ]
  },
  {
   "cell_type": "code",
   "execution_count": 255,
   "id": "8b5fe58e-a958-4aaa-a936-c363feac71f3",
   "metadata": {},
   "outputs": [
    {
     "data": {
      "image/png": "[encoded data removed]",
      "text/plain": [
       "<Figure size 648x648 with 1 Axes>"
      ]
     },
     "metadata": {
      "needs_background": "light"
     },
     "output_type": "display_data"
    }
   ],
   "source": [
    "pandas_plot(calculated_df, save=True);"
   ]
  },
  {
   "cell_type": "code",
   "execution_count": 256,
   "id": "ebe503ec-154b-4713-b245-6924d712dd38",
   "metadata": {},
   "outputs": [],
   "source": [
    "def anscombe_regplot_sets(save=False):\n",
    "    \"\"\" \"\"\"\n",
    "\n",
    "    fig, axes = plt.subplots(2,2, figsize = (9, 9), sharex=True, sharey=True)\n",
    "    sns.regplot(x=quartet_df[\"I\"][\"x1\"], y=quartet_df[\"I\"][\"y1\"], ax=axes[0, 0], \n",
    "                scatter_kws={\"color\": \"green\"}, line_kws={\"color\": \"red\"})\n",
    "    axes[0, 0].title.set_text(\"Set I\")\n",
    "    axes[0, 0].grid();\n",
    "\n",
    "    sns.regplot(x=quartet_df[\"II\"][\"x2\"], y=quartet_df[\"II\"][\"y2\"], ax=axes[0, 1],\n",
    "               scatter_kws={\"color\": \"green\"}, line_kws={\"color\": \"red\"})\n",
    "    axes[0, 1].title.set_text(\"Set II\")\n",
    "    axes[0, 1].grid();\n",
    "    \n",
    "    sns.regplot(x=quartet_df[\"III\"][\"x3\"], y=quartet_df[\"III\"][\"y3\"], ax=axes[1, 0],\n",
    "               scatter_kws={\"color\": \"green\"}, line_kws={\"color\": \"red\"})\n",
    "    axes[1, 0].title.set_text(\"Set III\")\n",
    "    axes[1, 0].grid();\n",
    "\n",
    "    sns.regplot(x=quartet_df[\"IV\"][\"x4\"], y=quartet_df[\"IV\"][\"y4\"], ax=axes[1, 1],\n",
    "               scatter_kws={\"color\": \"green\"}, line_kws={\"color\": \"red\"})\n",
    "    axes[1, 1].title.set_text(\"Set IV\") \n",
    "    axes[1, 1].grid();\n",
    "    \n",
    "    axes[0, 0].set(xlim=(2, 20), ylim=(2, 14))\n",
    "    axes[0, 0].set(xticks=(range(2, 22, 2)), yticks=(range(2, 16, 2)))\n",
    "    \n",
    "    if save == True:\n",
    "        plt.savefig(\"output/anscombe.jpg\")"
   ]
  },
  {
   "cell_type": "code",
   "execution_count": 257,
   "id": "894de735-7a45-401e-a13e-8d46f2421342",
   "metadata": {},
   "outputs": [
    {
     "data": {
      "image/png": "[encoded data removed]",
      "text/plain": [
       "<Figure size 648x648 with 4 Axes>"
      ]
     },
     "metadata": {
      "needs_background": "light"
     },
     "output_type": "display_data"
    }
   ],
   "source": [
    "anscombe_regplot_sets(save=True)"
   ]
  },
  {
   "cell_type": "markdown",
   "id": "78e81f74-5d02-4d3b-920e-7e944f93f554",
   "metadata": {},
   "source": [
    "## as script .py"
   ]
  },
  {
   "cell_type": "code",
   "execution_count": 258,
   "id": "70611c25-a2a8-410d-be59-5740b2783d5b",
   "metadata": {},
   "outputs": [],
   "source": [
    "# shell command convert .ipynb to .py\n",
    "#!jupyter nbconvert --to script anscombe_quartet.ipynb"
   ]
  },
  {
   "cell_type": "code",
   "execution_count": 259,
   "id": "5158b1ef-efac-4f48-842e-bb42342bc225",
   "metadata": {},
   "outputs": [],
   "source": [
    "# if __name__ == \"__main__\":\n",
    "#     main()"
   ]
  },
  {
   "cell_type": "markdown",
   "id": "9b848de9-4de6-4c6e-b9ec-a8a265426598",
   "metadata": {},
   "source": [
    "## path saving"
   ]
  },
  {
   "cell_type": "code",
   "execution_count": 260,
   "id": "73d4a873-a82c-4b01-9667-9b1f3cef576e",
   "metadata": {},
   "outputs": [
    {
     "name": "stdout",
     "output_type": "stream",
     "text": [
      "My current directory is : C:\\Users\\DJaskulski\\Documents\\PycharmProjects\\data_prep_classes\n",
      "My directory name is : data_prep_classes\n"
     ]
    }
   ],
   "source": [
    "import os\n",
    "directory_path = os.getcwd()\n",
    "print(\"My current directory is : \" + directory_path)\n",
    "folder_name = os.path.basename(directory_path)\n",
    "print(\"My directory name is : \" + folder_name)"
   ]
  },
  {
   "cell_type": "code",
   "execution_count": 261,
   "id": "24e42d19-79ae-40f8-a8c5-b04874a6a087",
   "metadata": {},
   "outputs": [],
   "source": [
    "# os.makedirs('output')\n",
    "\n",
    "# root = 'output'\n",
    "# df.to_csv(root + '/' + 'df.csv')"
   ]
  },
  {
   "cell_type": "code",
   "execution_count": null,
   "id": "11ccabcd-d272-4aca-8927-5923974df99d",
   "metadata": {},
   "outputs": [],
   "source": []
  }
 ],
 "metadata": {
  "kernelspec": {
   "display_name": "Python [conda env:cdv_data_prep] *",
   "language": "python",
   "name": "conda-env-cdv_data_prep-py"
  },
  "language_info": {
   "codemirror_mode": {
    "name": "ipython",
    "version": 3
   },
   "file_extension": ".py",
   "mimetype": "text/x-python",
   "name": "python",
   "nbconvert_exporter": "python",
   "pygments_lexer": "ipython3",
   "version": "3.8.5"
  }
 },
 "nbformat": 4,
 "nbformat_minor": 5
}
