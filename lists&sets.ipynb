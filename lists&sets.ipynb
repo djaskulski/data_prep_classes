{
 "cells": [
  {
   "cell_type": "code",
   "execution_count": 75,
   "id": "40aaef9c-cb0d-4c0f-9475-6d867a31240d",
   "metadata": {},
   "outputs": [],
   "source": [
    "import random"
   ]
  },
  {
   "cell_type": "code",
   "execution_count": 76,
   "id": "dbdadc06-638d-4ebe-af8a-614471754d5c",
   "metadata": {},
   "outputs": [],
   "source": [
    "def list_manipulator() -> None:\n",
    "    \"\"\" \n",
    "    i) Modify below code to be able to repeat all above steps \n",
    "       to get the same results each time\n",
    "    \"\"\"\n",
    "    \n",
    "    print(\"a) Create a list with 5 fruit names\")\n",
    "    fruit_names = [\"Apple\", \"Pear\", \"Blueberry\", \"Raspberry\", \"Strawberry\"]\n",
    "    print(fruit_names, \"\\n\")\n",
    "\n",
    "    print(\"b) Extend the fruit_names list with 2 vegatables\")\n",
    "    for i in [\"Tomato\", \"Onion\"]:\n",
    "        fruit_names.append(i)\n",
    "    print(fruit_names, \"\\n\")\n",
    "\n",
    "    print(\"c) Shuffle the list\")\n",
    "    random.shuffle(fruit_names)\n",
    "    print(fruit_names, \"\\n\")\n",
    "\n",
    "    print(\"d) Find the position of first vegetable\") \n",
    "    index1 = fruit_names.index(\"Tomato\")\n",
    "    index2 = fruit_names.index(\"Onion\")\n",
    "    if index1 > index2:\n",
    "        print(index2, \"\\n\")\n",
    "    else:\n",
    "        print(index1, \"\\n\")\n",
    "\n",
    "    print(\"e) Remove one fruit\")\n",
    "    fruit_names.remove(\"Pear\")\n",
    "\n",
    "    print(\"f) Print the (final) result\")\n",
    "    print(fruit_names, \"\\n\")\n",
    "\n",
    "    print(\"g) Sort the list in alphabetical order\")\n",
    "    fruit_names.sort()\n",
    "    \n",
    "    print(\"h) Print each element of a list using a loop\")\n",
    "    for i in fruit_names:\n",
    "        print(i)"
   ]
  },
  {
   "cell_type": "code",
   "execution_count": 77,
   "id": "eb9b5ca8-e6f4-4bae-9626-193c9bd7a636",
   "metadata": {},
   "outputs": [],
   "source": [
    "def tuple_manipulator() -> None:\n",
    "    \"\"\"\n",
    "    # Pair up above lists\n",
    "    # Using a loop unpack the tuple into variables: first_el, secodn_el\n",
    "    # Print the pair position and variables using f-string.\n",
    "        # Example:\n",
    "        # \"Index of a3 and b3 is equal 2\"\n",
    "    \"\"\"\n",
    "    \n",
    "    first_list = [\"a\" + str(number) for number in range(1, 10)]\n",
    "    second_list = [\"b\" + str(number) for number in range(1, 10)]\n",
    "    print(\"Lists: \\n\", *first_list, \"\\n\", *second_list, \"\\n\")\n",
    "    \n",
    "    \n",
    "    paired_list = list(zip(first_list, second_list))\n",
    "    print(\"paired lists: \", paired_list, \"\\n\")\n",
    "\n",
    "    \n",
    "    index_counter = 0\n",
    "    for i in paired_list:\n",
    "        first_el, secodn_el = i\n",
    "        print(f\"Index of {first_el} and {secodn_el} is equal {index_counter}\")\n",
    "        index_counter += 1"
   ]
  },
  {
   "cell_type": "code",
   "execution_count": 78,
   "id": "4ef05833-054b-4b93-9a50-93e7babc6b9c",
   "metadata": {},
   "outputs": [],
   "source": [
    "def sets_manipulator() -> None:\n",
    "    \"\"\"\n",
    "    # I thought this was about all about Sets - not lists.\n",
    "    # Find the overlapping names in above lists\n",
    "    # Print number of \"duplicated\" names\n",
    "    # Find and print the union of above lists and length\n",
    "    # Find and print the difference between lists and length\n",
    "    \"\"\"\n",
    "    \n",
    "    fake_names_1 = ['Sherry', 'Mary', 'Matthew', 'Danielle', 'Jeffrey', 'Lauren', \n",
    "                  'Keith', 'Carlos', 'Monique', 'Laura', 'Jared', 'Valerie', 'Juan', \n",
    "                  'Christopher', 'Erica', 'Dawn', 'Joshua', 'Brandon', 'Stephanie']\n",
    "\n",
    "    fake_names_2 = ['Andre', 'Anthony', 'Lauren', 'Douglas', 'Jonathan', 'Richard', \n",
    "                    'Alyssa', 'Vincent', 'Travis', 'Clifford', 'Jerry', 'Justin',\n",
    "                    'Matthew', 'Jared', 'Erica']\n",
    "\n",
    "    fake_names_1 = set(fake_names_1)\n",
    "    fake_names_2 = set(fake_names_2)\n",
    "    print(\"list_1: \", *fake_names_1, \"\\n\", \"\\nlist_2: \", *fake_names_2, \"\\n\")\n",
    "    \n",
    "    \n",
    "    intersected = fake_names_1.intersection(fake_names_2)\n",
    "    print(\"intersected: \", intersected)\n",
    "    print(\"len of intersected: \", len(intersected), \"\\n\")\n",
    "\n",
    "    united = fake_names_1.union(fake_names_2)\n",
    "    print(\"united: \", united)\n",
    "    print(\"len of united: \", len(united), \"\\n\")\n",
    "\n",
    "    differenced = fake_names_1.symmetric_difference(fake_names_2)\n",
    "    print(\"differenced: \", differenced)\n",
    "    print(\"len of differenced: \", len(differenced))"
   ]
  },
  {
   "cell_type": "code",
   "execution_count": 79,
   "id": "d7c97f62-0915-42f0-b962-374a03b5c2e0",
   "metadata": {},
   "outputs": [],
   "source": [
    "def main():\n",
    "    \n",
    "    list_manipulator()\n",
    "    tuple_manipulator()\n",
    "    sets_manipulator()"
   ]
  },
  {
   "cell_type": "code",
   "execution_count": 80,
   "id": "f39c82d9-e33c-4163-b0f5-393fa0918fa3",
   "metadata": {},
   "outputs": [
    {
     "name": "stdout",
     "output_type": "stream",
     "text": [
      "a) Create a list with 5 fruit names\n",
      "['Apple', 'Pear', 'Blueberry', 'Raspberry', 'Strawberry'] \n",
      "\n",
      "b) Extend the fruit_names list with 2 vegatables\n",
      "['Apple', 'Pear', 'Blueberry', 'Raspberry', 'Strawberry', 'Tomato', 'Onion'] \n",
      "\n",
      "c) Shuffle the list\n",
      "['Strawberry', 'Blueberry', 'Pear', 'Apple', 'Tomato', 'Onion', 'Raspberry'] \n",
      "\n",
      "d) Find the position of first vegetable\n",
      "4 \n",
      "\n",
      "e) Remove one fruit\n",
      "f) Print the (final) result\n",
      "['Strawberry', 'Blueberry', 'Apple', 'Tomato', 'Onion', 'Raspberry'] \n",
      "\n",
      "g) Sort the list in alphabetical order\n",
      "h) Print each element of a list using a loop\n",
      "Apple\n",
      "Blueberry\n",
      "Onion\n",
      "Raspberry\n",
      "Strawberry\n",
      "Tomato\n",
      "Lists: \n",
      " a1 a2 a3 a4 a5 a6 a7 a8 a9 \n",
      " b1 b2 b3 b4 b5 b6 b7 b8 b9 \n",
      "\n",
      "paired lists:  [('a1', 'b1'), ('a2', 'b2'), ('a3', 'b3'), ('a4', 'b4'), ('a5', 'b5'), ('a6', 'b6'), ('a7', 'b7'), ('a8', 'b8'), ('a9', 'b9')] \n",
      "\n",
      "Index of a1 and b1 is equal 0\n",
      "Index of a2 and b2 is equal 1\n",
      "Index of a3 and b3 is equal 2\n",
      "Index of a4 and b4 is equal 3\n",
      "Index of a5 and b5 is equal 4\n",
      "Index of a6 and b6 is equal 5\n",
      "Index of a7 and b7 is equal 6\n",
      "Index of a8 and b8 is equal 7\n",
      "Index of a9 and b9 is equal 8\n",
      "list_1:  Sherry Stephanie Laura Monique Mary Danielle Matthew Erica Valerie Brandon Juan Jeffrey Lauren Jared Christopher Dawn Joshua Keith Carlos \n",
      " \n",
      "list_2:  Justin Andre Alyssa Lauren Vincent Jerry Anthony Matthew Douglas Clifford Richard Jonathan Erica Travis Jared \n",
      "\n",
      "intersected:  {'Lauren', 'Erica', 'Jared', 'Matthew'}\n",
      "len of intersected:  4 \n",
      "\n",
      "united:  {'Justin', 'Lauren', 'Sherry', 'Stephanie', 'Laura', 'Monique', 'Mary', 'Anthony', 'Juan', 'Douglas', 'Clifford', 'Richard', 'Travis', 'Danielle', 'Jared', 'Christopher', 'Andre', 'Alyssa', 'Vincent', 'Dawn', 'Jerry', 'Joshua', 'Matthew', 'Keith', 'Carlos', 'Erica', 'Valerie', 'Jonathan', 'Brandon', 'Jeffrey'}\n",
      "len of united:  30 \n",
      "\n",
      "differenced:  {'Sherry', 'Stephanie', 'Laura', 'Monique', 'Mary', 'Clifford', 'Danielle', 'Andre', 'Jerry', 'Jonathan', 'Valerie', 'Brandon', 'Juan', 'Jeffrey', 'Justin', 'Anthony', 'Douglas', 'Richard', 'Travis', 'Christopher', 'Alyssa', 'Vincent', 'Dawn', 'Joshua', 'Keith', 'Carlos'}\n",
      "len of differenced:  26\n"
     ]
    }
   ],
   "source": [
    "if __name__ == \"__main__\":\n",
    "    main()"
   ]
  },
  {
   "cell_type": "code",
   "execution_count": 81,
   "id": "221c5243-6304-470e-9cce-f129d6fb35f2",
   "metadata": {},
   "outputs": [
    {
     "name": "stderr",
     "output_type": "stream",
     "text": [
      "[NbConvertApp] WARNING | Config option `kernel_spec_manager_class` not recognized by `NbConvertApp`.\n",
      "[NbConvertApp] Converting notebook lists&sets.ipynb to python\n",
      "[NbConvertApp] Writing 3613 bytes to lists&sets.py\n"
     ]
    }
   ],
   "source": [
    "#!jupyter nbconvert --to python \"lists&sets.ipynb\""
   ]
  }
 ],
 "metadata": {
  "kernelspec": {
   "display_name": "Python [conda env:cdv_data_prep] *",
   "language": "python",
   "name": "conda-env-cdv_data_prep-py"
  },
  "language_info": {
   "codemirror_mode": {
    "name": "ipython",
    "version": 3
   },
   "file_extension": ".py",
   "mimetype": "text/x-python",
   "name": "python",
   "nbconvert_exporter": "python",
   "pygments_lexer": "ipython3",
   "version": "3.8.5"
  }
 },
 "nbformat": 4,
 "nbformat_minor": 5
}
