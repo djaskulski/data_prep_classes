{
 "cells": [
  {
   "cell_type": "code",
   "execution_count": 5,
   "id": "40aaef9c-cb0d-4c0f-9475-6d867a31240d",
   "metadata": {},
   "outputs": [],
   "source": [
    "import random"
   ]
  },
  {
   "cell_type": "markdown",
   "id": "44a5f64d-f548-43e5-8632-532f628bb100",
   "metadata": {},
   "source": [
    "# 1. List manipulation"
   ]
  },
  {
   "cell_type": "code",
   "execution_count": 6,
   "id": "dbdadc06-638d-4ebe-af8a-614471754d5c",
   "metadata": {},
   "outputs": [],
   "source": [
    "def list_manipulator():\n",
    "    \"\"\" \n",
    "    i) Modify below code to be able to repeat all above steps \n",
    "       to get the same results each time\n",
    "    \"\"\"\n",
    "    \n",
    "    # a) Create a list with 5 fruit names\n",
    "    fruit_names = [\"Apple\", \"Pear\", \"Blueberry\", \"Raspberry\", \"Strawberry\"]\n",
    "\n",
    "    # b) Extend the fruit_names list with 2 vegatables\n",
    "    for i in [\"Tomato\", \"Onion\"]:\n",
    "        fruit_names.append(i)\n",
    "\n",
    "    # c) Shuffle the list\n",
    "    random.shuffle(fruit_names)\n",
    "\n",
    "    # d) Find the position of first vegetable \n",
    "    fruit_names[0]\n",
    "\n",
    "    # e) Remove one fruit\n",
    "    fruit_names.remove(\"Pear\")\n",
    "\n",
    "    # f) Print the result\n",
    "    print(fruit_names)\n",
    "\n",
    "    # g) Sort the list in alphabetical order\n",
    "    fruit_names.sort()\n",
    "    \n",
    "    # h) Print each element of a list using a loop\n",
    "    for i in fruit_names:\n",
    "        print(i)"
   ]
  },
  {
   "cell_type": "code",
   "execution_count": 7,
   "id": "26478d4c-fbf5-4f85-a3e1-785cc84cd094",
   "metadata": {},
   "outputs": [
    {
     "name": "stdout",
     "output_type": "stream",
     "text": [
      "['Strawberry', 'Blueberry', 'Apple', 'Tomato', 'Raspberry', 'Onion']\n",
      "Apple\n",
      "Blueberry\n",
      "Onion\n",
      "Raspberry\n",
      "Strawberry\n",
      "Tomato\n"
     ]
    }
   ],
   "source": [
    "list_manipulator()"
   ]
  },
  {
   "cell_type": "markdown",
   "id": "d1ea57fd-fd48-489d-9647-ffb194559fe0",
   "metadata": {},
   "source": [
    "# 2. Tuples"
   ]
  },
  {
   "cell_type": "code",
   "execution_count": 8,
   "id": "eb9b5ca8-e6f4-4bae-9626-193c9bd7a636",
   "metadata": {},
   "outputs": [
    {
     "name": "stdout",
     "output_type": "stream",
     "text": [
      "paired lists:  [('a1', 'b1'), ('a2', 'b2'), ('a3', 'b3'), ('a4', 'b4'), ('a5', 'b5'), ('a6', 'b6'), ('a7', 'b7'), ('a8', 'b8'), ('a9', 'b9')]\n",
      "Index of a1 and b1 is equal 0\n",
      "Index of a2 and b2 is equal 1\n",
      "Index of a3 and b3 is equal 2\n",
      "Index of a4 and b4 is equal 3\n",
      "Index of a5 and b5 is equal 4\n",
      "Index of a6 and b6 is equal 5\n",
      "Index of a7 and b7 is equal 6\n",
      "Index of a8 and b8 is equal 7\n",
      "Index of a9 and b9 is equal 8\n"
     ]
    }
   ],
   "source": [
    "first_list = [\"a\" + str(number) for number in range(1, 10)]\n",
    "second_list = [\"b\" + str(number) for number in range(1, 10)]\n",
    "\n",
    "# Pair up above lists\n",
    "paired_list = list(zip(first_list, second_list))\n",
    "print(\"paired lists: \", paired_list)\n",
    "\n",
    "# Using a loop unpack the tuple into variables: first_el, secodn_el\n",
    "index_counter = 0\n",
    "for i in paired_list:\n",
    "    first_el, secodn_el = i\n",
    "\n",
    "# Print the pair position and variables using f-string.\n",
    "# Example:\n",
    "# \"Index of a3 and b3 is equal 2\"\n",
    "\n",
    "    print(f\"Index of {first_el} and {secodn_el} is equal {index_counter}\")\n",
    "    index_counter += 1"
   ]
  },
  {
   "cell_type": "markdown",
   "id": "75cddee0-1df4-4862-98df-bbc0b3d76cc7",
   "metadata": {},
   "source": [
    "# 3. Sets (unordered & unique data)"
   ]
  },
  {
   "cell_type": "code",
   "execution_count": 9,
   "id": "4ef05833-054b-4b93-9a50-93e7babc6b9c",
   "metadata": {},
   "outputs": [
    {
     "name": "stdout",
     "output_type": "stream",
     "text": [
      "intersected:  {'Erica', 'Matthew', 'Jared', 'Lauren'}\n",
      "len of intersected:  4 \n",
      "\n",
      "united:  {'Clifford', 'Lauren', 'Jared', 'Anthony', 'Vincent', 'Matthew', 'Brandon', 'Juan', 'Danielle', 'Laura', 'Jonathan', 'Valerie', 'Stephanie', 'Sherry', 'Douglas', 'Andre', 'Keith', 'Christopher', 'Joshua', 'Carlos', 'Jeffrey', 'Richard', 'Justin', 'Monique', 'Alyssa', 'Erica', 'Travis', 'Dawn', 'Jerry', 'Mary'}\n",
      "len of united:  30 \n",
      "\n",
      "differenced:  {'Vincent', 'Juan', 'Laura', 'Jonathan', 'Valerie', 'Stephanie', 'Douglas', 'Monique', 'Alyssa', 'Travis', 'Dawn', 'Jerry', 'Andre', 'Mary', 'Clifford', 'Anthony', 'Brandon', 'Danielle', 'Sherry', 'Keith', 'Christopher', 'Joshua', 'Carlos', 'Jeffrey', 'Richard', 'Justin'}\n",
      "len of differenced:  26\n"
     ]
    }
   ],
   "source": [
    "fake_names_1 = ['Sherry', 'Mary', 'Matthew', 'Danielle', 'Jeffrey', 'Lauren', \n",
    "              'Keith', 'Carlos', 'Monique', 'Laura', 'Jared', 'Valerie', 'Juan', \n",
    "              'Christopher', 'Erica', 'Dawn', 'Joshua', 'Brandon', 'Stephanie']\n",
    "\n",
    "fake_names_2 = ['Andre', 'Anthony', 'Lauren', 'Douglas', 'Jonathan', 'Richard', \n",
    "                'Alyssa', 'Vincent', 'Travis', 'Clifford', 'Jerry', 'Justin',\n",
    "                'Matthew', 'Jared', 'Erica']\n",
    "\n",
    "# I thought this was about all about Sets - not lists.\n",
    "fake_names_1 = set(fake_names_1)\n",
    "fake_names_2 = set(fake_names_2)\n",
    "\n",
    "# Find the overlapping names in above lists\n",
    "intersected = fake_names_1.intersection(fake_names_2)\n",
    "print(\"intersected: \", intersected)\n",
    "# Print number of \"duplicated\" names\n",
    "print(\"len of intersected: \", len(intersected), \"\\n\")\n",
    "\n",
    "# Find and print the union of above lists\n",
    "united = fake_names_1.union(fake_names_2)\n",
    "print(\"united: \", united)\n",
    "# Print number of ...\n",
    "print(\"len of united: \", len(united), \"\\n\")\n",
    "\n",
    "# Find and print the difference between lists\n",
    "differenced = fake_names_1.symmetric_difference(fake_names_2)\n",
    "print(\"differenced: \", differenced)\n",
    "# Print number of ...\n",
    "print(\"len of differenced: \", len(differenced))"
   ]
  }
 ],
 "metadata": {
  "kernelspec": {
   "display_name": "Python [conda env:cdv_data_prep] *",
   "language": "python",
   "name": "conda-env-cdv_data_prep-py"
  },
  "language_info": {
   "codemirror_mode": {
    "name": "ipython",
    "version": 3
   },
   "file_extension": ".py",
   "mimetype": "text/x-python",
   "name": "python",
   "nbconvert_exporter": "python",
   "pygments_lexer": "ipython3",
   "version": "3.8.5"
  }
 },
 "nbformat": 4,
 "nbformat_minor": 5
}
