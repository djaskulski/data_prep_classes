{
 "cells": [
  {
   "cell_type": "markdown",
   "id": "641a21b3-4013-4b18-ab76-8eadfd631112",
   "metadata": {},
   "source": [
    "Yahoo finance (n)\n",
    "\n",
    "Proszę wstawić print screen z np. jupyter notebooka, gdzie:\n",
    "\n",
    "- będą widoczne 2 wykresy ze średnią ruchomą (pandas, altair)\n",
    "\n",
    "- będzie widoczny kod, który wygenerował wykresy.\n",
    "\n",
    "\n",
    "Nazwa pliku (bez polskich znaków):\n",
    "\n",
    "Nazwisko_Imie_yahoo_niestacj.jpg"
   ]
  },
  {
   "cell_type": "markdown",
   "id": "4758d6f6-0862-4d75-a2b8-32eb4dbca227",
   "metadata": {},
   "source": [
    "Dane:\n",
    "    \n",
    "https://finance.yahoo.com/quote/CSV/history/?guce_referrer=aHR0cHM6Ly93d3cuZ29vZ2xlLmNvbS8&guce_referrer_sig=AQAAAJjgOLcqSa79X2NVcDfaAsiL9BAHg5RvrFg6uir9MoKK8kw1oCE7Io1rINBuyWaJzgkx4TiRiOL_UMQKHk9Lp2Ne9IZ7hwh-3ettI5wsQEvlI2guv04Y0DrmkdAYNKm_baNDrq-DX0kN7r07wdmeKavlvqjoWZWgGPyncARRyqtG&guccounter=2"
   ]
  },
  {
   "cell_type": "code",
   "execution_count": 1,
   "id": "54ad261b-8d40-4e85-b1b0-1e017e559d14",
   "metadata": {},
   "outputs": [],
   "source": [
    "import re\n",
    "\n",
    "import pandas as pd\n",
    "import altair as alt\n",
    "import seaborn as sns\n",
    "import matplotlib.pyplot as plt"
   ]
  },
  {
   "cell_type": "code",
   "execution_count": 3,
   "id": "615b9fa6-105b-4f13-a331-ddc68f426670",
   "metadata": {},
   "outputs": [],
   "source": [
    "def get_local_csv(path=\"houses_data.csv\"):\n",
    "    \"\"\"\n",
    "    Loads csv file into my_data variable and displays it's head.\n",
    "        Parameters:\n",
    "            path (str): Path to local file with extension. Must be '.csv'. Default = 'houses_data.csv'\n",
    "        Returns:\n",
    "            my_data (DataFrame): Global variable that holds loaded DataFrame.\n",
    "    \"\"\"\n",
    "    \n",
    "    global my_data\n",
    "    \n",
    "    if not re.search(r\"(.csv)\", path):\n",
    "        raise SyntaxError(\"Only .csv are files allowed\")\n",
    "    else:\n",
    "        my_data = pd.read_csv(path)\n",
    "        \n",
    "    return display(my_data.head())"
   ]
  },
  {
   "cell_type": "code",
   "execution_count": 5,
   "id": "9dbf1d24-c468-4cb8-a0e0-78b935f25771",
   "metadata": {},
   "outputs": [],
   "source": [
    "def smaller_df(source=my_data, x=\"Date\", y=\"Price\", y_rolling=True, x_as_index=True) -> pd.DataFrame:\n",
    "    \"\"\"\n",
    "    Reduces taken DataFrame to two columns (x, y) and calculates rolling mean for y values. \n",
    "    Could set x as index.\n",
    "        Parameters:\n",
    "            source (DataFrame): DataFrame with 2 and more columns. Default = my_data.\n",
    "            x (array-like): Column name from source paremeter. Default = 'Date'.\n",
    "            y (array-like): Column name from source paremeter. Default = 'Price'.\n",
    "            y_rolling (bool): Calculates rolling mean for y values. Default = True.\n",
    "            x_as_index (bool): If True, x must be datetime type. Default = True.  \n",
    "        Returns:\n",
    "            small_df (DataFrame): Global variable that holds calculated DataFrame.\n",
    "    \"\"\"\n",
    "    \n",
    "    global small_df\n",
    "    \n",
    "    small_df = pd.DataFrame()\n",
    "    small_df[x] = source[x]\n",
    "    small_df[y] = source[y]\n",
    "    \n",
    "    if y_rolling == True:\n",
    "        small_df[\"Rolling\"] = source[y].rolling(window=10).mean()\n",
    "    \n",
    "    if x_as_index == True:\n",
    "        small_df.set_index(x, inplace=True)\n",
    "    \n",
    "    return small_df"
   ]
  },
  {
   "cell_type": "code",
   "execution_count": 7,
   "id": "619cd0b2-a8f5-4f4e-9bec-63d3fa59bd7f",
   "metadata": {},
   "outputs": [],
   "source": [
    "def plot_pandas_rolling_mean(source=small_df, title=\"title\") -> plt:\n",
    "    \"\"\" \n",
    "    Plots columns of taken DataFrame with scatter (first column) and line plot (second column). \n",
    "    Could set title.\n",
    "        Parameters:\n",
    "            source (DataFrame): DataFrame with max 2 columns. Index must be date. Default = small_df.\n",
    "            title (str): Title of plot. Default = 'title'.\n",
    "        Returns: Plot.\n",
    "    \"\"\"\n",
    "    \n",
    "    plt.figure(figsize=((13,8)))\n",
    "    \n",
    "    sns.scatterplot(x=source.index, y=source.iloc[:,0], color=\"red\", label=small_df.columns[0])\n",
    "    sns.lineplot(x=source.index, y=source.iloc[:,1], color=\"blue\", label=small_df.columns[1])\n",
    "    \n",
    "    plt.title(title)\n",
    "    plt.xticks(rotation=90)\n",
    "    plt.grid();\n",
    "    \n",
    "    return plt.show()"
   ]
  },
  {
   "cell_type": "code",
   "execution_count": 15,
   "id": "4af7d536-9789-4b8d-a3bc-c4877eed508f",
   "metadata": {},
   "outputs": [],
   "source": [
    "def plot_alt_rolling_mean(source=small_df):\n",
    "    \"\"\"\n",
    "    Plots columns of taken DataFrame with scatter (first column) and line plot (second column). \n",
    "    Could set title.\n",
    "        Parameters:\n",
    "            source (DataFrame): DataFrame with max 2 columns. One of them must be date. Default = small_df.\n",
    "        Returns: Plot.\n",
    "    \"\"\"\n",
    "    alt.data_transformers.disable_max_rows()\n",
    "    \n",
    "    line = alt.Chart(source).mark_line(\n",
    "        color='red',\n",
    "        size=3\n",
    "    ).transform_window(\n",
    "        rolling_mean='mean(Price)',\n",
    "        frame=[-10]\n",
    "    ).encode(\n",
    "        x='Date:T',\n",
    "        y='rolling_mean:Q'\n",
    "    )\n",
    "\n",
    "    points = alt.Chart(source).mark_point().encode(\n",
    "        x='Date:T',\n",
    "        y=alt.Y('Price:Q',\n",
    "                axis=alt.Axis(title='Prices'))\n",
    "    ).properties(\n",
    "    width=640,\n",
    "    height=480)\n",
    "\n",
    "    return points + line"
   ]
  },
  {
   "cell_type": "code",
   "execution_count": 17,
   "id": "e69d6577-0b24-41dd-a99a-d3de1f959d3a",
   "metadata": {},
   "outputs": [],
   "source": [
    "def main():\n",
    "    get_local_csv()\n",
    "    \n",
    "    smaller_df(y=\"Price\", x_as_index=True)\n",
    "    \n",
    "    plot_pandas_rolling_mean(title=\"Prices of yahoo houses and rolling mean\")\n",
    "    \n",
    "    smaller_df(y=\"Price\", x_as_index=False, y_rolling=False)\n",
    "    \n",
    "    plot_alt_rolling_mean()"
   ]
  }
 ],
 "metadata": {
  "kernelspec": {
   "display_name": "Python [conda env:cdv_data_prep] *",
   "language": "python",
   "name": "conda-env-cdv_data_prep-py"
  },
  "language_info": {
   "codemirror_mode": {
    "name": "ipython",
    "version": 3
   },
   "file_extension": ".py",
   "mimetype": "text/x-python",
   "name": "python",
   "nbconvert_exporter": "python",
   "pygments_lexer": "ipython3",
   "version": "3.8.5"
  }
 },
 "nbformat": 4,
 "nbformat_minor": 5
}
